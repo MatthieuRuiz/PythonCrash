{
 "cells": [
  {
   "cell_type": "code",
   "execution_count": 36,
   "id": "4a3311bf",
   "metadata": {},
   "outputs": [],
   "source": [
    "import numpy as np"
   ]
  },
  {
   "cell_type": "markdown",
   "id": "a8a0d116",
   "metadata": {},
   "source": [
    "# 1. Integers"
   ]
  },
  {
   "cell_type": "code",
   "execution_count": 21,
   "id": "4260c903",
   "metadata": {},
   "outputs": [
    {
     "name": "stdout",
     "output_type": "stream",
     "text": [
      "a^b =  11\n"
     ]
    }
   ],
   "source": [
    "a = 15\n",
    "b = 4\n",
    "c = a^b\n",
    "\n",
    "print(\"a^b = \", c)"
   ]
  },
  {
   "cell_type": "markdown",
   "id": "ca0e9242",
   "metadata": {},
   "source": [
    "# 2. String"
   ]
  },
  {
   "cell_type": "code",
   "execution_count": 23,
   "id": "8f5ae129",
   "metadata": {},
   "outputs": [
    {
     "name": "stdout",
     "output_type": "stream",
     "text": [
      "<class 'str'>\n"
     ]
    }
   ],
   "source": [
    "name = \"6weiheng\"\n",
    "\n",
    "print( type(name[0]) )"
   ]
  },
  {
   "cell_type": "code",
   "execution_count": 24,
   "id": "1ee8ec9f",
   "metadata": {},
   "outputs": [
    {
     "name": "stdout",
     "output_type": "stream",
     "text": [
      "<class 'int'>\n"
     ]
    }
   ],
   "source": [
    "print( type(int(name[0])) )"
   ]
  },
  {
   "cell_type": "code",
   "execution_count": 25,
   "id": "4f84d00e",
   "metadata": {
    "jupyter": {
     "source_hidden": true
    },
    "tags": []
   },
   "outputs": [
    {
     "name": "stdout",
     "output_type": "stream",
     "text": [
      "10\n"
     ]
    }
   ],
   "source": [
    "print( int(name[0]) + 4)"
   ]
  },
  {
   "cell_type": "code",
   "execution_count": 31,
   "id": "1d9e9485",
   "metadata": {},
   "outputs": [
    {
     "name": "stdout",
     "output_type": "stream",
     "text": [
      "64\n"
     ]
    }
   ],
   "source": [
    "print( name[0] + \"4\" )"
   ]
  },
  {
   "cell_type": "markdown",
   "id": "90f448dd",
   "metadata": {},
   "source": [
    "# 3. Data processing"
   ]
  },
  {
   "cell_type": "code",
   "execution_count": 67,
   "id": "35df20d9",
   "metadata": {},
   "outputs": [],
   "source": [
    "f = open('data/bank-details.txt', 'r')"
   ]
  },
  {
   "cell_type": "code",
   "execution_count": 68,
   "id": "91c985e9",
   "metadata": {},
   "outputs": [
    {
     "name": "stdout",
     "output_type": "stream",
     "text": [
      "['Matt, 6', 'Weiheng, 10']\n"
     ]
    }
   ],
   "source": [
    "print(f.read().splitlines())"
   ]
  },
  {
   "cell_type": "code",
   "execution_count": 69,
   "id": "9cc3fc8c",
   "metadata": {},
   "outputs": [
    {
     "name": "stdout",
     "output_type": "stream",
     "text": [
      "['Matt, 6\\n', 'Weiheng, 10']\n"
     ]
    }
   ],
   "source": [
    "with open('data/bank-details.txt') as f:\n",
    "    lines = f.readlines()\n",
    "    print(lines)"
   ]
  },
  {
   "cell_type": "code",
   "execution_count": 77,
   "id": "8fb2631d",
   "metadata": {},
   "outputs": [
    {
     "name": "stdout",
     "output_type": "stream",
     "text": [
      "['Matt, 6', 'Weiheng, 10']\n",
      "Matt, 6\n",
      "Weiheng, 10\n",
      "['Matt', ' 6']\n",
      "['Weiheng', ' 10']\n"
     ]
    }
   ],
   "source": [
    "with open(\"data/bank-details.txt\", \"r\") as fd:\n",
    "    lines = fd.read().splitlines()\n",
    "    \n",
    "    # all lines\n",
    "    print(lines)\n",
    "    \n",
    "    # split lines\n",
    "    print(lines[0])\n",
    "    print(lines[1])\n",
    "    \n",
    "    # split Name and Age\n",
    "    print(lines[0].split(\",\"))\n",
    "    print(lines[1].split(\",\"))"
   ]
  },
  {
   "cell_type": "markdown",
   "id": "5265b8dc",
   "metadata": {},
   "source": [
    "# Homework\n",
    "# 1. Calculate the sum of int\n",
    "# 2. Read the names into an array like [\"Weiheng\", \"Matt\"], and sort it according to the first letter\n",
    "## ans: [\"Matt\", \"Weiheng\"]"
   ]
  },
  {
   "cell_type": "code",
   "execution_count": 79,
   "id": "6eab2dae",
   "metadata": {},
   "outputs": [],
   "source": [
    "array_name = [\"Matt\", \"Weiheng\"]"
   ]
  },
  {
   "cell_type": "code",
   "execution_count": 80,
   "id": "c25e91dd",
   "metadata": {},
   "outputs": [
    {
     "data": {
      "text/plain": [
       "'Matt'"
      ]
     },
     "execution_count": 80,
     "metadata": {},
     "output_type": "execute_result"
    }
   ],
   "source": [
    "array_name[0]"
   ]
  },
  {
   "cell_type": "code",
   "execution_count": 81,
   "id": "716c9551",
   "metadata": {},
   "outputs": [
    {
     "data": {
      "text/plain": [
       "'Weiheng'"
      ]
     },
     "execution_count": 81,
     "metadata": {},
     "output_type": "execute_result"
    }
   ],
   "source": [
    "array_name[1]"
   ]
  },
  {
   "cell_type": "code",
   "execution_count": 86,
   "id": "3ada8a9d",
   "metadata": {},
   "outputs": [
    {
     "name": "stdout",
     "output_type": "stream",
     "text": [
      "WeihengMatt\n",
      "Wa La\n"
     ]
    }
   ],
   "source": [
    "if array_name[0][0] < array_name[1][0]:\n",
    "    new_array = array_name[1] + array_name[0]\n",
    "    print(new_array)\n",
    "    print(\"Wa La\")\n",
    "else:\n",
    "    print(\"Va La\")\n"
   ]
  },
  {
   "cell_type": "code",
   "execution_count": null,
   "id": "4d690903",
   "metadata": {},
   "outputs": [],
   "source": []
  }
 ],
 "metadata": {
  "kernelspec": {
   "display_name": "Python 3",
   "language": "python",
   "name": "python3"
  },
  "language_info": {
   "codemirror_mode": {
    "name": "ipython",
    "version": 3
   },
   "file_extension": ".py",
   "mimetype": "text/x-python",
   "name": "python",
   "nbconvert_exporter": "python",
   "pygments_lexer": "ipython3",
   "version": "3.8.8"
  }
 },
 "nbformat": 4,
 "nbformat_minor": 5
}
