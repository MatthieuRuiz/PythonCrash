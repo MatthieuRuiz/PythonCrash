{
  "cells": [
    {
      "cell_type": "code",
      "metadata": {
        "cell_id": "00000-81f90a4b-cee3-40ab-b006-5c0a774580e5",
        "deepnote_to_be_reexecuted": false,
        "source_hash": "c2602aa8",
        "execution_millis": 1,
        "execution_start": 1618736923827,
        "deepnote_cell_type": "code"
      },
      "source": "import numpy as np",
      "execution_count": 1,
      "outputs": []
    },
    {
      "cell_type": "markdown",
      "source": "# 1. Integers",
      "metadata": {
        "cell_id": "00001-d77b57cb-6e71-4923-a3c3-4bf2aae74e7a",
        "deepnote_cell_type": "markdown"
      }
    },
    {
      "cell_type": "code",
      "metadata": {
        "cell_id": "00002-cfcbdfc9-3188-4206-a4a9-5c3be03c2a22",
        "deepnote_to_be_reexecuted": false,
        "source_hash": "d0aaa973",
        "execution_millis": 20,
        "execution_start": 1618736923838,
        "deepnote_cell_type": "code"
      },
      "source": "a = 15\nb = 4\nc = a^b\n\nprint(\"a^b = \", c)",
      "execution_count": 2,
      "outputs": [
        {
          "name": "stdout",
          "text": "a^b =  11\n",
          "output_type": "stream"
        }
      ]
    },
    {
      "cell_type": "markdown",
      "source": "# 2. String",
      "metadata": {
        "cell_id": "00003-1b919eeb-6799-4214-87ce-fabc74573b79",
        "deepnote_cell_type": "markdown"
      }
    },
    {
      "cell_type": "code",
      "metadata": {
        "cell_id": "00004-7114ed7f-36b6-4afc-b7e6-a85d3c11efc6",
        "deepnote_to_be_reexecuted": false,
        "source_hash": "ef9d31cc",
        "execution_start": 1618736923849,
        "execution_millis": 11,
        "deepnote_cell_type": "code"
      },
      "source": "name = \"6weiheng\"\n\nprint( type(name[0]) )",
      "execution_count": 3,
      "outputs": [
        {
          "name": "stdout",
          "text": "<class 'str'>\n",
          "output_type": "stream"
        }
      ]
    },
    {
      "cell_type": "code",
      "metadata": {
        "cell_id": "00005-a3f4d888-3db5-4f44-90e3-e91487a09fae",
        "deepnote_to_be_reexecuted": false,
        "source_hash": "5ae6e776",
        "execution_millis": 2,
        "execution_start": 1618736923884,
        "deepnote_cell_type": "code"
      },
      "source": "print( type(int(name[0])) )",
      "execution_count": 4,
      "outputs": [
        {
          "name": "stdout",
          "text": "<class 'int'>\n",
          "output_type": "stream"
        }
      ]
    },
    {
      "cell_type": "code",
      "metadata": {
        "jupyter": {
          "source_hidden": true
        },
        "tags": [],
        "cell_id": "00006-4b96a9e8-5624-45e2-a955-a55d5907ea1a",
        "deepnote_to_be_reexecuted": false,
        "source_hash": "c13c79ea",
        "execution_millis": 3,
        "execution_start": 1618736923885,
        "deepnote_cell_type": "code"
      },
      "source": "print( int(name[0]) + 4)",
      "execution_count": 5,
      "outputs": [
        {
          "name": "stdout",
          "text": "10\n",
          "output_type": "stream"
        }
      ]
    },
    {
      "cell_type": "code",
      "metadata": {
        "cell_id": "00007-8f00ea6b-da38-4fe4-9872-83eaed428ec0",
        "deepnote_to_be_reexecuted": false,
        "source_hash": "3fd4586",
        "execution_start": 1618736923886,
        "execution_millis": 21,
        "deepnote_cell_type": "code"
      },
      "source": "print( name[0] + \"4\" )",
      "execution_count": 6,
      "outputs": [
        {
          "name": "stdout",
          "text": "64\n",
          "output_type": "stream"
        }
      ]
    },
    {
      "cell_type": "markdown",
      "source": "# 3. Data processing",
      "metadata": {
        "cell_id": "00008-8c6be4bd-49c8-4e92-b88c-2e10ac5e063a",
        "deepnote_cell_type": "markdown"
      }
    },
    {
      "cell_type": "code",
      "metadata": {
        "cell_id": "00009-ff4b6ad7-3689-4718-af3f-cfb3e872f28e",
        "deepnote_to_be_reexecuted": false,
        "source_hash": "62e54343",
        "execution_start": 1618736923890,
        "deepnote_cell_type": "code"
      },
      "source": "f = open('data/bank-details.txt', 'r')",
      "execution_count": 7,
      "outputs": []
    },
    {
      "cell_type": "code",
      "metadata": {
        "cell_id": "00010-510ff83c-111b-4b60-9b9c-af1d6f4539b4",
        "deepnote_to_be_reexecuted": false,
        "source_hash": "1fdad1eb",
        "execution_millis": 14,
        "execution_start": 1618736923894,
        "deepnote_cell_type": "code"
      },
      "source": "print(f.read().splitlines())",
      "execution_count": 8,
      "outputs": [
        {
          "name": "stdout",
          "text": "['Name, Age', 'Matt, 17', 'Weiheng, 24', 'Tom. 66,', 'Bob, 40', 'Jean, 15', 'Paul, 19']\n",
          "output_type": "stream"
        }
      ]
    },
    {
      "cell_type": "code",
      "metadata": {
        "cell_id": "00011-518217d0-dd6e-42e7-a8ce-69cf7176f9b3",
        "deepnote_to_be_reexecuted": false,
        "source_hash": "fa85cdfa",
        "execution_millis": 9,
        "execution_start": 1618736923899,
        "deepnote_cell_type": "code"
      },
      "source": "with open('data/bank-details.txt') as f:\n    lines = f.readlines()\n    print(lines)",
      "execution_count": 9,
      "outputs": [
        {
          "name": "stdout",
          "text": "['Name, Age\\n', 'Matt, 17\\n', 'Weiheng, 24\\n', 'Tom. 66,\\n', 'Bob, 40\\n', 'Jean, 15\\n', 'Paul, 19\\n']\n",
          "output_type": "stream"
        }
      ]
    },
    {
      "cell_type": "code",
      "metadata": {
        "cell_id": "00012-bdccc5b0-d04b-4a6f-8a06-03ea4ecd2d84",
        "deepnote_to_be_reexecuted": false,
        "source_hash": "30692a7f",
        "execution_millis": 2,
        "execution_start": 1618736923916,
        "deepnote_cell_type": "code"
      },
      "source": "with open(\"data/bank-details.txt\", \"r\") as fd:\n    lines = fd.read().splitlines()\n    \n    # all lines\n    print(lines)\n    \n    # split lines\n    print(lines[0])\n    print(lines[1])\n    \n    # split Name and Age\n    print(lines[0].split(\",\"))\n    print(lines[1].split(\",\"))",
      "execution_count": 10,
      "outputs": []
    },
    {
      "cell_type": "markdown",
      "source": "# Homework\n# 1. Calculate the sum of int\n# 2. Read the names into an array like [\"Weiheng\", \"Matt\"], and sort it according to the first letter\n## ans: [\"Matt\", \"Weiheng\"]",
      "metadata": {
        "cell_id": "00013-f4450ff7-1004-4185-abb4-d1feacd32ea8",
        "deepnote_cell_type": "markdown"
      }
    },
    {
      "cell_type": "code",
      "metadata": {
        "cell_id": "00014-610ce56a-5567-451d-aa5a-cd08c49b8dcd",
        "deepnote_to_be_reexecuted": false,
        "source_hash": "f8673fbe",
        "execution_start": 1618736923916,
        "execution_millis": 9,
        "deepnote_cell_type": "code"
      },
      "source": "array_name = [\"Matt\", \"Weiheng\"]",
      "execution_count": 11,
      "outputs": []
    },
    {
      "cell_type": "code",
      "metadata": {
        "cell_id": "00015-18708b03-43b4-4b50-b390-8b487953c465",
        "deepnote_to_be_reexecuted": false,
        "source_hash": "cf0fc58a",
        "execution_millis": 8,
        "execution_start": 1618736923917,
        "deepnote_cell_type": "code"
      },
      "source": "array_name[0]",
      "execution_count": 12,
      "outputs": [
        {
          "output_type": "execute_result",
          "execution_count": 12,
          "data": {
            "text/plain": "'Matt'"
          },
          "metadata": {}
        }
      ]
    },
    {
      "cell_type": "code",
      "metadata": {
        "cell_id": "00016-bf84d063-3d4b-43ee-b26d-7fc76afe9ad0",
        "deepnote_to_be_reexecuted": false,
        "source_hash": "9fd584c8",
        "execution_millis": 9,
        "execution_start": 1618736923919,
        "deepnote_cell_type": "code"
      },
      "source": "array_name[1]",
      "execution_count": 13,
      "outputs": [
        {
          "output_type": "execute_result",
          "execution_count": 13,
          "data": {
            "text/plain": "'Weiheng'"
          },
          "metadata": {}
        }
      ]
    },
    {
      "cell_type": "code",
      "metadata": {
        "cell_id": "00017-918be87e-f54f-4956-a193-47b78883c9ef",
        "deepnote_to_be_reexecuted": false,
        "source_hash": "aa72484c",
        "execution_millis": 8,
        "execution_start": 1618736923936,
        "deepnote_cell_type": "code"
      },
      "source": "if array_name[0][0] < array_name[1][0]:\n    new_array = array_name[1] + array_name[0]\n    print(new_array)\n    print(\"Wa La\")\nelse:\n    print(\"Va La\")\n",
      "execution_count": 14,
      "outputs": [
        {
          "name": "stdout",
          "text": "WeihengMatt\nWa La\n",
          "output_type": "stream"
        }
      ]
    },
    {
      "cell_type": "code",
      "metadata": {
        "cell_id": "00018-699839a6-f289-49a0-b704-5c9f741cd9e4",
        "deepnote_to_be_reexecuted": false,
        "source_hash": "8b83c634",
        "execution_millis": 26,
        "execution_start": 1618739336365,
        "deepnote_cell_type": "code"
      },
      "source": "with open(\"data/bank-details.txt\") as f:\n    data = f.read().splitlines()\n    # print(\"entire file: \", data)\n\n    pure_data = data[1:]\n    # print(pure_data)\n    # print(len(pure_data))\n\n    sum = 0\n    for i in range(len(pure_data)):\n        content = pure_data[i]\n        # print(\"processing {}/6...\".format(i+1))\n        # print(content) \n        # Content = \"Matt, 17\"\n        # Content.split()\n        result = content.split(',')\n        # print (result[1])\n\n\n        sum = sum + int(result[1])\n    print(\"result of sum: \", sum)",
      "execution_count": 72,
      "outputs": [
        {
          "name": "stdout",
          "text": "result of sum:  181\n",
          "output_type": "stream"
        }
      ]
    },
    {
      "cell_type": "markdown",
      "source": "# Solution",
      "metadata": {
        "tags": [],
        "cell_id": "00019-47fab2f7-b44f-4b7a-a2ca-3d86a47ee407",
        "deepnote_cell_type": "markdown"
      }
    },
    {
      "cell_type": "code",
      "source": "with open(\"data/bank-details.txt\") as f:\n    data = f.read().splitlines()\n    # print(\"entire file: \", data)\n\n    pure_data = data[1:]\n    # print(pure_data)\n    # print(len(pure_data))\n\n    sum = 0\n    names = []\n    for i in range(len(pure_data)):\n        content = pure_data[i]\n        split_data = content.split(',')\n        print(split_data[0])\n\n        names.append(split_data[0])\n    print(names)\n    names.sort(key=lambda x: x[2])\n    print(names)\n    # https://www.programiz.com/python-programming/methods/list/sort\n    # The syntax of the sort() method is:\n    # list.sort(key=..., reverse=...)\n    # Alternatively, you can also use Python's built-in sorted() function for the same purpose.\n    # sorted(list, key=..., reverse=...)",
      "metadata": {
        "tags": [],
        "cell_id": "00019-df1d886e-fb78-4905-baad-aa798778fb40",
        "deepnote_to_be_reexecuted": false,
        "source_hash": "20fbc1ce",
        "execution_millis": 15,
        "execution_start": 1618740261219,
        "deepnote_cell_type": "code"
      },
      "outputs": [
        {
          "name": "stdout",
          "text": "Matt\nWeiheng\nTom\nBob\nJean\nPaul\n['Matt', 'Weiheng', 'Tom', 'Bob', 'Jean', 'Paul']\n['Jean', 'Bob', 'Weiheng', 'Tom', 'Matt', 'Paul']\n",
          "output_type": "stream"
        }
      ],
      "execution_count": 86
    },
    {
      "cell_type": "code",
      "source": "",
      "metadata": {
        "tags": [],
        "cell_id": "00021-af9c7405-69c5-4de3-94ba-9844f3fe70e9",
        "deepnote_cell_type": "code"
      },
      "outputs": [],
      "execution_count": null
    },
    {
      "cell_type": "markdown",
      "source": "<a style='text-decoration:none;line-height:16px;display:flex;color:#5B5B62;padding:10px;justify-content:end;' href='https://deepnote.com?utm_source=created-in-deepnote-cell&projectId=b4326eaf-21b3-4c83-9899-17b623191002' target=\"_blank\">\n<img alt='Created in deepnote.com' style='display:inline;max-height:16px;margin:0px;margin-right:7.5px;' src='data:image/svg+xml;base64,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' > </img>\nCreated in <span style='font-weight:600;margin-left:4px;'>Deepnote</span></a>",
      "metadata": {
        "tags": [],
        "created_in_deepnote_cell": true,
        "deepnote_cell_type": "markdown"
      }
    }
  ],
  "nbformat": 4,
  "nbformat_minor": 5,
  "metadata": {
    "kernelspec": {
      "display_name": "Python 3",
      "language": "python",
      "name": "python3"
    },
    "language_info": {
      "codemirror_mode": {
        "name": "ipython",
        "version": 3
      },
      "file_extension": ".py",
      "mimetype": "text/x-python",
      "name": "python",
      "nbconvert_exporter": "python",
      "pygments_lexer": "ipython3",
      "version": "3.8.5"
    },
    "deepnote_notebook_id": "7b2d33a2-dbb9-47e5-bd76-615662587af4",
    "deepnote": {},
    "deepnote_execution_queue": []
  }
}