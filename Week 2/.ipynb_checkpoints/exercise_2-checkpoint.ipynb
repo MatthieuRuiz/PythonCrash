{
 "cells": [
  {
   "cell_type": "markdown",
   "metadata": {},
   "source": [
    "<div class=\"alert-info\">\n",
    "    \n",
    "Question 1 - Write a function that reverses a string. The input string is given as an array of characters s.\n",
    "    \n",
    "Example 1:\n",
    "<br> Input: s = [\"h\",\"e\",\"l\",\"l\",\"o\"]\n",
    "<br> Output: [\"o\",\"l\",\"l\",\"e\",\"h\"]\n",
    "\n",
    "Example 2:\n",
    "<br> Input: s = [\"H\",\"a\",\"n\",\"n\",\"a\",\"h\"]\n",
    "<br> Output: [\"h\",\"a\",\"n\",\"n\",\"a\",\"H\"]\n",
    "</div>\n",
    "\n",
    "Your code in the next code blocks:"
   ]
  },
  {
   "cell_type": "code",
   "execution_count": 49,
   "metadata": {},
   "outputs": [
    {
     "name": "stdout",
     "output_type": "stream",
     "text": [
      "i:  0\n",
      "i:  1\n",
      "['i', 'h']\n",
      "ih\n"
     ]
    },
    {
     "data": {
      "text/plain": [
       "'ih'"
      ]
     },
     "execution_count": 49,
     "metadata": {},
     "output_type": "execute_result"
    }
   ],
   "source": [
    "def reverse_string(inStr):\n",
    "    #TODO: reverse inStr, and save the reversed String to outStr    \n",
    "    # str = \"hi\" \n",
    "    # str = ['h', 'i']\n",
    "    #         |    |\n",
    "    #         0    1\n",
    "    #         |\n",
    "    #         i\n",
    "    \n",
    "    #input:  [hi]\n",
    "    #output: [ih]\n",
    "    # [1, 0]\n",
    "    outStr = []\n",
    "    length = len(inStr)\n",
    "    for i in range(0, length):\n",
    "        print(\"i: \", i)\n",
    "        elem = inStr[i]\n",
    "        outStr.insert(0, inStr[i])\n",
    "    print(outStr)\n",
    "    outStr = \"\".join(outStr)\n",
    "    print(outStr)\n",
    "    return outStr\n",
    "\n",
    "reverse_string(\"hi\")"
   ]
  },
  {
   "cell_type": "code",
   "execution_count": 35,
   "metadata": {},
   "outputs": [
    {
     "name": "stdout",
     "output_type": "stream",
     "text": [
      "Array:  [1 2 3]\n",
      "3\n"
     ]
    },
    {
     "data": {
      "text/plain": [
       "3"
      ]
     },
     "execution_count": 35,
     "metadata": {},
     "output_type": "execute_result"
    }
   ],
   "source": [
    "import numpy as np\n",
    "\n",
    "m = 10\n",
    "n = 11\n",
    "l = 12\n",
    "\n",
    "def sum_np(A,B,C):\n",
    "    List = [A,B,C]\n",
    "    Array = np.array(List)\n",
    "    print(\"Array: \", Array)\n",
    "    \n",
    "    maxVal = np.amax(List)\n",
    "    print(maxVal)\n",
    "    return maxVal\n",
    "\n",
    "sum_np(1,2,3)\n",
    "    \n",
    "#     return maxVal\n",
    "\n",
    "# def SUM(A, B, C):\n",
    "#     # A, B, C\n",
    "#     #    |\n",
    "#     #   max\n",
    "#     input_list = [A,B,C]\n",
    "    \n",
    "#     max_num = A\n",
    "#     for i in range(0, 3):    # [0,3) -> 0, 1, 2\n",
    "#         print(\"i: \", i)\n",
    "#         if max_num > input_list[i]:   # 999 > 3\n",
    "#             continue\n",
    "#         elif max_num <= input_list[i]: \n",
    "#             max_num = input_list[i]\n",
    "#         print(\"not continue\")\n",
    "        \n",
    "#     print(max_num)\n",
    "    \n",
    "#     return max_num\n",
    "\n",
    "# SUM(999,2,3)\n",
    "\n",
    "# print(\"\\n\")\n",
    "\n",
    "# # z = f(x,y)\n",
    "# z = SUM(1000,2000,39)\n",
    "# zz = SUM(z, z, 1)"
   ]
  },
  {
   "cell_type": "code",
   "execution_count": 50,
   "metadata": {},
   "outputs": [
    {
     "name": "stdout",
     "output_type": "stream",
     "text": [
      "i:  0\n",
      "i:  1\n",
      "i:  2\n",
      "i:  3\n",
      "i:  4\n",
      "i:  5\n",
      "i:  6\n",
      "['r', 'u', 'o', 'j', 'n', 'o', 'b']\n",
      "ruojnob\n",
      "ruojnob\n"
     ]
    }
   ],
   "source": [
    "s = [\"b\",\"o\",\"n\",\"j\",\"o\",\"u\",\"r\"]\n",
    "result = reverse_string(s)\n",
    "print(result)"
   ]
  },
  {
   "cell_type": "markdown",
   "metadata": {},
   "source": [
    "<div class=\"alert-info\">\n",
    "    \n",
    "Question 2 - Write a function to delete a node in a singly-linked list. You will not be given access to the head of the list, instead you will be given access to the node to be deleted directly.\n",
    "    \n",
    "<br> <img src=\"img/node1.jpg\" width=\"400\" height=\"200\">\n",
    "\n",
    "Example 1.\n",
    "<br> Input: head = [4,5,1,9], node = 5\n",
    "<br> Output: [4,1,9]\n",
    "<br> Explanation: You are given the second node with value 5, the linked list should become 4 -> 1 -> 9 after calling your function.\n",
    "   \n",
    "Example 2.\n",
    "<br> Input: head = [4,5,1,9], node = 1\n",
    "<br> Output: [4,5,9]\n",
    "<br> Explanation: You are given the third node with value 1, the linked list should become 4 -> 5 -> 9 after calling your function.\n",
    "    \n",
    "</div>\n",
    "\n",
    "Your code in the next code blocks:"
   ]
  },
  {
   "cell_type": "code",
   "execution_count": null,
   "metadata": {},
   "outputs": [],
   "source": [
    "def delete_node(input_List):\n",
    "    #TODO: reverse inStr, and save the reversed String to outStr\n",
    "    output_List = input_List\n",
    "    \n",
    "    return output_List"
   ]
  },
  {
   "cell_type": "code",
   "execution_count": null,
   "metadata": {},
   "outputs": [],
   "source": [
    "input_example = [4,5,9,19,10,2]\n",
    "node_to_delete = 19\n",
    "\n",
    "result = reverse_string(input_example)\n",
    "print(result)"
   ]
  },
  {
   "cell_type": "markdown",
   "metadata": {},
   "source": [
    "<div class=\"alert-info\">\n",
    "\n",
    "Question 3 - Given an array of integers nums and an integer target, return indices of the two numbers such that they add up to target.\n",
    "\n",
    "You may assume that each input would have exactly one solution, and you may not use the same element twice.\n",
    "\n",
    "You can return the answer in any order.\n",
    "    \n",
    "Example 1:\n",
    "<br> Input: nums = [2,7,11,15], target = 9\n",
    "<br> Output: [0,1]\n",
    "<br> Output: Because nums[0] + nums[1] == 9, we return [0, 1].\n",
    "\n",
    "</div>"
   ]
  },
  {
   "cell_type": "code",
   "execution_count": null,
   "metadata": {},
   "outputs": [],
   "source": [
    "'''\n",
    "Input: [3,4,11,99,100,11,198,532,31278]\n",
    "Target: 110\n",
    "'''\n",
    "\n",
    "def sum_to_target(intputArray):\n",
    "    #TODO: reverse inStr, and save the reversed String to outStr\n",
    "    result = intputArray\n",
    "    \n",
    "    return result"
   ]
  },
  {
   "cell_type": "code",
   "execution_count": null,
   "metadata": {},
   "outputs": [],
   "source": []
  }
 ],
 "metadata": {
  "kernelspec": {
   "display_name": "Python 3",
   "language": "python",
   "name": "python3"
  },
  "language_info": {
   "codemirror_mode": {
    "name": "ipython",
    "version": 3
   },
   "file_extension": ".py",
   "mimetype": "text/x-python",
   "name": "python",
   "nbconvert_exporter": "python",
   "pygments_lexer": "ipython3",
   "version": "3.8.5"
  }
 },
 "nbformat": 4,
 "nbformat_minor": 4
}
