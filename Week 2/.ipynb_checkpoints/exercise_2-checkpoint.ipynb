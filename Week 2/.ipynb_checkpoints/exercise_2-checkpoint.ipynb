{
 "cells": [
  {
   "cell_type": "markdown",
   "metadata": {},
   "source": [
    "<div class=\"alert-info\">\n",
    "    \n",
    "Question 1 - Write a function that reverses a string. The input string is given as an array of characters s.\n",
    "    \n",
    "Example 1:\n",
    "<br> Input: s = [\"h\",\"e\",\"l\",\"l\",\"o\"]\n",
    "<br> Output: [\"o\",\"l\",\"l\",\"e\",\"h\"]\n",
    "\n",
    "Example 2:\n",
    "<br> Input: s = [\"H\",\"a\",\"n\",\"n\",\"a\",\"h\"]\n",
    "<br> Output: [\"h\",\"a\",\"n\",\"n\",\"a\",\"H\"]\n",
    "</div>\n",
    "\n",
    "Your code in the next code blocks:"
   ]
  },
  {
   "cell_type": "code",
   "execution_count": 3,
   "metadata": {},
   "outputs": [],
   "source": [
    "def reverse_string(inStr):\n",
    "    #TODO: reverse inStr, and save the reversed String to outStr\n",
    "    outStr = inStr\n",
    "    \n",
    "    return outStr"
   ]
  },
  {
   "cell_type": "code",
   "execution_count": 7,
   "metadata": {},
   "outputs": [
    {
     "name": "stdout",
     "output_type": "stream",
     "text": [
      "['b', 'o', 'n', 'j', 'o', 'u', 'r']\n"
     ]
    }
   ],
   "source": [
    "s = [\"b\",\"o\",\"n\",\"j\",\"o\",\"u\",\"r\"]\n",
    "result = reverse_string(s)\n",
    "print(result)"
   ]
  },
  {
   "cell_type": "markdown",
   "metadata": {},
   "source": [
    "<div class=\"alert-info\">\n",
    "    \n",
    "Question 2 - Write a function to delete a node in a singly-linked list. You will not be given access to the head of the list, instead you will be given access to the node to be deleted directly.\n",
    "    \n",
    "<br> <img src=\"img/node1.jpg\" width=\"400\" height=\"200\">\n",
    "\n",
    "Example 1.\n",
    "<br> Input: head = [4,5,1,9], node = 5\n",
    "<br> Output: [4,1,9]\n",
    "<br> Explanation: You are given the second node with value 5, the linked list should become 4 -> 1 -> 9 after calling your function.\n",
    "   \n",
    "Example 2.\n",
    "<br> Input: head = [4,5,1,9], node = 1\n",
    "<br> Output: [4,5,9]\n",
    "<br> Explanation: You are given the third node with value 1, the linked list should become 4 -> 5 -> 9 after calling your function.\n",
    "    \n",
    "</div>\n",
    "\n",
    "Your code in the next code blocks:"
   ]
  },
  {
   "cell_type": "code",
   "execution_count": 13,
   "metadata": {},
   "outputs": [],
   "source": [
    "def delete_node(input_List):\n",
    "    #TODO: reverse inStr, and save the reversed String to outStr\n",
    "    output_List = input_List\n",
    "    \n",
    "    return output_List"
   ]
  },
  {
   "cell_type": "code",
   "execution_count": 14,
   "metadata": {},
   "outputs": [
    {
     "name": "stdout",
     "output_type": "stream",
     "text": [
      "[4, 5, 9, 19, 10, 2]\n"
     ]
    }
   ],
   "source": [
    "input_example = [4,5,9,19,10,2]\n",
    "node_to_delete = 19\n",
    "\n",
    "result = reverse_string(input_example)\n",
    "print(result)"
   ]
  },
  {
   "cell_type": "markdown",
   "metadata": {},
   "source": [
    "<div class=\"alert-info\">\n",
    "\n",
    "Question 3 - Given an array of integers nums and an integer target, return indices of the two numbers such that they add up to target.\n",
    "\n",
    "You may assume that each input would have exactly one solution, and you may not use the same element twice.\n",
    "\n",
    "You can return the answer in any order.\n",
    "    \n",
    "Example 1:\n",
    "<br> Input: nums = [2,7,11,15], target = 9\n",
    "<br> Output: [0,1]\n",
    "<br> Output: Because nums[0] + nums[1] == 9, we return [0, 1].\n",
    "\n",
    "</div>"
   ]
  },
  {
   "cell_type": "code",
   "execution_count": 15,
   "metadata": {},
   "outputs": [],
   "source": [
    "'''\n",
    "Input: [3,4,11,99,100,11,198,532,31278]\n",
    "Target: 110\n",
    "'''\n",
    "\n",
    "def sum_to_target(intputArray):\n",
    "    #TODO: reverse inStr, and save the reversed String to outStr\n",
    "    result = intputArray\n",
    "    \n",
    "    return result"
   ]
  },
  {
   "cell_type": "code",
   "execution_count": null,
   "metadata": {},
   "outputs": [],
   "source": []
  }
 ],
 "metadata": {
  "kernelspec": {
   "display_name": "Python 3",
   "language": "python",
   "name": "python3"
  },
  "language_info": {
   "codemirror_mode": {
    "name": "ipython",
    "version": 3
   },
   "file_extension": ".py",
   "mimetype": "text/x-python",
   "name": "python",
   "nbconvert_exporter": "python",
   "pygments_lexer": "ipython3",
   "version": "3.8.5"
  }
 },
 "nbformat": 4,
 "nbformat_minor": 4
}
